{
  "nbformat": 4,
  "nbformat_minor": 0,
  "metadata": {
    "colab": {
      "name": "Copy of Copy of DieselSalesVolumePrediction_Description",
      "provenance": [],
      "collapsed_sections": [],
      "include_colab_link": true
    },
    "kernelspec": {
      "name": "python3",
      "display_name": "Python 3"
    }
  },
  "cells": [
    {
      "cell_type": "markdown",
      "metadata": {
        "id": "view-in-github",
        "colab_type": "text"
      },
      "source": [
        "<a href=\"https://colab.research.google.com/github/scayatte/hello-world/blob/master/Copy_of_Copy_of_DieselSalesVolumePrediction_Description.ipynb\" target=\"_parent\"><img src=\"https://colab.research.google.com/assets/colab-badge.svg\" alt=\"Open In Colab\"/></a>"
      ]
    },
    {
      "cell_type": "markdown",
      "metadata": {
        "id": "hRRiOwaDHzqX"
      },
      "source": [
        "---\n",
        "<img src=\"https://upload.wikimedia.org/wikipedia/fr/thumb/d/dd/TOTAL_SA_logo.svg/640px-TOTAL_SA_logo.svg.png\" width=\"300\" align='left'></img>\n",
        "<center> <h1> <b>Case Study</b></h1></center>\n",
        "<center> <h2> PADD 1 (East Coast) Diesel Demand Forecasting </h2></center>\n",
        "\n",
        "---\n",
        "\n",
        "## Description\n",
        "Demand is one of the needed bricks in forcasting the SnD (Supply/Demand) for the next short term period, and hence the next price move.  \n",
        "In this case study, you will be working on modeling the PADD1 No 2 Diesel Demand ([US Padds](https://en.wikipedia.org/wiki/Petroleum_Administration_for_Defense_Districts)), based on the retail prices and the weather conditions. Feel free to include other variables in this model.\n",
        "\n",
        "## Objective\n",
        "By leading this study, the candidate will be able to test the validity of the following assumptions:\n",
        "1.   Customers tend to buy more Diesel when they have lower prices.\n",
        "2.   The PADD 1 Diesel demand is negatively correlated with this regions temperature (It is positively correlated with the heating degrees).\n",
        "\n",
        "## Evaluation\n",
        "The candidate will be evaluated on his ability to re-frame the problem into a data problem, to source relevant data (Be creative!), to manipulate and visualize the data, to forecast the demand based on the created model.\n",
        "For all these steps, you need to write up few lines explaining the findings and the decisions you made.\n",
        "\n",
        "You are not asked to backtest this model. However, it is a plus!\n",
        "\n",
        "## Submission / Suggested tools and libraries\n",
        "It is suggested to do this analysis in Google collab (It is an easy way to share Notebook without having to hard-install any software or library). You can replicate this notebook on you side and start directly working in it by adding you own text/code cells. Once you finish you can send us the sharing link as your final submission. \n",
        "\n",
        "This [Welcome Tutorial](https://colab.research.google.com/notebooks/welcome.ipynb?hl=en) can be helpful if you are new to Google Collabs and looking for a way to get started.\n",
        "\n",
        "Please notice that even though it is recommended to perform this study in Python. You have the possibility to do it in other languages (Scala/R/Matlab/Maple... etc, excepting MS Excel), as long as you provide the full code in your final submission.\n",
        "\n",
        "\n",
        ">#### Suggested Python libraries\n",
        "* [pandas](https://pypi.org/project/pandas/): a python powerfull and user-friendly library for data wrangling/manupilation\n",
        "* [requests](https://pypi.org/project/requests/): can be needed if you want to request directly the EIA rest api without using a wrapper\n",
        "* [eiapy](https://pypi.org/project/eiapy/): a python wrapper for the EIA rest api\n",
        "* [quandl](https://pypi.org/project/Quandl/): quandl python api to request financial time series\n",
        "* [scikit-learn](https://scikit-learn.org/stable/): a predictive data analysis library\n",
        "* [darksky_weather](https://github.com/Detrous/darksky): a wrapper for the Darksky API\n",
        "\n",
        "## Data Sources\n",
        "*   U.S. Energy Information Administration (Doc: https://www.eia.gov/opendata/) -- a registration is needed\n",
        "*   Quandl (Doc: https://docs.quandl.com/) -- a registration is needed\n",
        "*   NOAA, Climate at a Glance (https://www.ncdc.noaa.gov/cag/regional/time-series/101/tavg/all/10/1895-2019) -- no registration is needed\n",
        "*   DarkSky, for the weather forecast -- a registration is needed\n",
        "\n",
        "*Please do not hesitate to contact [Octavio GADEA](mailto:octavio.gadea@atlantictm.com) or [Oussama ZOUAGHIA](mailto:oussama.zouaghia@totsa.com) if you have any question.*"
      ]
    },
    {
      "cell_type": "code",
      "metadata": {
        "id": "eJgqxex-xrmS"
      },
      "source": [
        ""
      ],
      "execution_count": null,
      "outputs": []
    },
    {
      "cell_type": "markdown",
      "metadata": {
        "id": "0ABebzbiSWOD"
      },
      "source": [
        "## Replicate and start working on your notebook\n",
        "\n",
        "**How to replicate the Google Collab notebook in your drive?**\n",
        "\n",
        "From the case study description notebook that we have sent you can click on:\n",
        "1. \"Open in playground\"\n",
        "<table><tr><td><img src=\"https://drive.google.com/uc?export=view&id=1G8ss4zUGCUaInUlebiQdOIvPxxnUAigl\"/></td></tr></table>\n",
        "\n",
        "2. Copy to Drive\n",
        "<table><tr><td><img src=\"https://drive.google.com/uc?export=view&id=1UDk0ddZrcuysRrF0yrH2_uGIZ4D5nmmr\"></img></td></tr></table>\n",
        "\n",
        "**How to share the Collab?**\n",
        "\n",
        "1.   Go into \"Share\" in the top-right of the notebook<table><tr><td><img src=\"https://drive.google.com/uc?export=view&id=1JV8foaYRYwPPHy61vWf-b4mOy6vA4DnJ\"></img></td></tr></table>\n",
        "\n",
        "2.   You have to change the file accessibility configuration so that it is visible to any one with the link, as shown in the following image:\n",
        "<table><tr><td><img src=\"https://drive.google.com/uc?export=view&id=1l3mOGQ2GRQ4ubfCGK-I5V-DtiMN1JeZF\"></img></td></tr></table>"
      ]
    }
  ]
}